{
 "cells": [
  {
   "cell_type": "markdown",
   "metadata": {},
   "source": [
    "<div class=\"alert alert-block alert-info\">\n",
    "<h>\n",
    "<b>\n",
    "<font size=\"6\">\n",
    "Example of using efp_gamess Plugin\n",
    "</font>\n",
    "</b>\n",
    "</h>\n",
    "</div>"
   ]
  },
  {
   "cell_type": "code",
   "execution_count": 1,
   "metadata": {
    "collapsed": true
   },
   "outputs": [],
   "source": [
    "import psi4\n",
    "import numpy as np\n",
    "import sys"
   ]
  },
  {
   "cell_type": "code",
   "execution_count": 2,
   "metadata": {},
   "outputs": [],
   "source": [
    "sys.path.insert(0,'./../')\n",
    "import efp_gamess"
   ]
  },
  {
   "cell_type": "code",
   "execution_count": 3,
   "metadata": {},
   "outputs": [
    {
     "data": {
      "text/plain": [
       "1500000000"
      ]
     },
     "execution_count": 3,
     "metadata": {},
     "output_type": "execute_result"
    }
   ],
   "source": [
    "psi4.set_memory('1500 MB')"
   ]
  },
  {
   "cell_type": "markdown",
   "metadata": {},
   "source": [
    "<div class = \"alert alert-block alert-warning\">\n",
    "<b>\n",
    "Most of my development was using formaldehyde because it has a good electronic excitation solvent shift. So you can do EOM-CCSD after getting the SCF wfn computed in EFP presence\n",
    "</b>\n",
    "</div>"
   ]
  },
  {
   "cell_type": "markdown",
   "metadata": {},
   "source": [
    "<div class = \"alert alert-block alert-danger\">\n",
    "<b>\n",
    "Use symmetry c1\n",
    "</b>\n",
    "</div>"
   ]
  },
  {
   "cell_type": "code",
   "execution_count": 4,
   "metadata": {},
   "outputs": [],
   "source": [
    "formaldehyde = psi4.geometry(\"\"\"\n",
    "  C      -0.760348   -0.184626   -0.375944\n",
    "  C      -0.359139    1.221670   -0.221730\n",
    "  O      0.105433    0.221711    0.712263\n",
    "  H      -1.062208    1.936726    0.204119\n",
    "  H       0.417567    1.639988   -0.860411\n",
    "  H      -0.232306   -0.767959   -1.131840\n",
    "  C      -2.126083   -0.688966    0.012252\n",
    "  H      -2.575921   -0.049412    0.778944\n",
    "  H      -2.787098   -0.705369   -0.863386\n",
    "  H      -2.062442   -1.709639    0.407385\n",
    "  \n",
    "symmetry c1\n",
    "\"\"\")"
   ]
  },
  {
   "cell_type": "code",
   "execution_count": 27,
   "metadata": {},
   "outputs": [],
   "source": [
    "psi4.set_options({'basis': 'aug-cc-pvdz','scf_type':'pk',\n",
    "                  'puream':'true','mp2_type':'conv',\n",
    "                 'e_convergence':'11','freeze_core':'true'})"
   ]
  },
  {
   "cell_type": "markdown",
   "metadata": {},
   "source": [
    "<div class=\"alert alert-block alert-info\">\n",
    "<h>\n",
    "<b>\n",
    "<font size=\"6\">\n",
    "Call the plugin and get back scf energy and the scf wfn (computed in EFP presence)\n",
    "</font>\n",
    "</b>\n",
    "</h>\n",
    "</div>"
   ]
  },
  {
   "cell_type": "code",
   "execution_count": 6,
   "metadata": {},
   "outputs": [
    {
     "name": "stdout",
     "output_type": "stream",
     "text": [
      "Attention! This SCF may be density-fitted.\n",
      "\n",
      "Printing ref_wfn.Fa().to_array()\n",
      "[[ -1.12965722e+01   2.43973794e+00  -2.13291866e+00 ...,   2.22233806e-01\n",
      "   -3.69338112e-01  -4.32809915e-01]\n",
      " [  2.43973794e+00  -1.13144345e+00  -3.95455363e-01 ...,   9.89439606e-02\n",
      "   -1.51478929e-01  -1.93590829e-01]\n",
      " [ -2.13291866e+00  -3.95455363e-01  -1.39974720e+00 ...,   2.24070433e-01\n",
      "   -2.51242533e-01  -4.89209255e-01]\n",
      " ..., \n",
      " [  2.22233806e-01   9.89439606e-02   2.24070433e-01 ...,   5.24486521e-02\n",
      "    8.33849775e-03   1.97010566e-01]\n",
      " [ -3.69338112e-01  -1.51478929e-01  -2.51242533e-01 ...,   8.33849775e-03\n",
      "    9.39774995e-02  -4.81404789e-03]\n",
      " [ -4.32809915e-01  -1.93590829e-01  -4.89209255e-01 ...,   1.97010566e-01\n",
      "   -4.81404789e-03  -3.63436928e-01]]\n",
      "\n",
      "Printing C transformation matrix (as array)\n",
      "[[ 1.  0.  0. ...,  0.  0.  0.]\n",
      " [ 0.  1.  0. ...,  0.  0.  0.]\n",
      " [ 0.  0.  1. ...,  0.  0.  0.]\n",
      " ..., \n",
      " [ 0.  0.  0. ...,  0.  0.  1.]\n",
      " [ 0.  0.  0. ...,  1.  0.  0.]\n",
      " [ 0.  0.  0. ...,  0.  1.  0.]]\n",
      "\n",
      "Printing F transformation matrix (as array)\n",
      "[[ 1.  0.  0. ...,  0.  0.  0.]\n",
      " [ 0.  1.  0. ...,  0.  0.  0.]\n",
      " [ 0.  0.  1. ...,  0.  0.  0.]\n",
      " ..., \n",
      " [ 0.  0.  0. ...,  0.  0.  1.]\n",
      " [ 0.  0.  0. ...,  1.  0.  0.]\n",
      " [ 0.  0.  0. ...,  0.  1.  0.]]\n",
      "\n",
      "Listing dataset in h5 file EFPcalc group\n",
      "['CONVERGED TOTAL FOCK MATRIX', 'EFP ONEEI', 'EFP TOTAL POLATIZATION, EFPOL', 'MO_coeff']\n",
      "\n",
      "GAMESS Fock matrix as numpy array (lower triangle)\n",
      "[[ -1.13504662e+01   2.45149025e+00  -1.17710257e+00 ...,   3.29764750e-02\n",
      "   -2.94118812e-01  -2.39560657e-04]\n",
      " [ -8.71746108e-03  -8.11590357e-02  -2.05512337e-02 ...,  -5.69382640e-03\n",
      "   -1.83591726e-01  -1.41643059e-01]\n",
      " [ -1.13398206e-01  -4.28572122e-02  -8.25634802e-02 ...,   3.98312603e-02\n",
      "    7.96284670e-03   5.14615743e-02]\n",
      " ..., \n",
      " [ -6.61774568e-04  -9.95899552e-03  -5.73325294e-03 ...,  -1.89099277e-03\n",
      "    1.93475935e-01  -1.17893614e-03]\n",
      " [  8.40906533e-04  -5.75206103e-04   5.00362986e-02 ...,  -1.19670196e-04\n",
      "   -8.43480690e-05   2.09086546e-03]\n",
      " [  1.01327630e-03   4.42962067e-03  -8.08764387e-03 ...,   4.47165224e-02\n",
      "    2.10865793e-03   4.32845375e-02]]\n",
      "Basis set info\n",
      "True\n",
      "nbf =  146\n",
      "Upper triangle Fock from Gamess turned into full Matrix:\n",
      "[[ -1.13504662e+01   2.45149025e+00  -2.14298778e+00 ...,  -3.71050703e-01\n",
      "   -4.34851171e-01   2.23246055e-01]\n",
      " [  2.45149025e+00  -1.17710257e+00  -4.22294257e-01 ...,  -1.54768634e-01\n",
      "   -2.00657713e-01   1.01503763e-01]\n",
      " [ -2.14298778e+00  -4.22294257e-01  -1.43418490e+00 ...,  -2.58582215e-01\n",
      "   -5.01111931e-01   2.27723431e-01]\n",
      " ..., \n",
      " [ -3.71050703e-01  -1.54768634e-01  -2.58582215e-01 ...,   7.30967898e-02\n",
      "   -6.94328197e-03   7.36761852e-03]\n",
      " [ -4.34851171e-01  -2.00657713e-01  -5.01111931e-01 ...,  -6.94328197e-03\n",
      "   -3.87869845e-01   1.96776731e-01]\n",
      " [  2.23246055e-01   1.01503763e-01   2.27723431e-01 ...,   7.36761852e-03\n",
      "    1.96776731e-01   2.98747738e-02]]\n",
      "\n",
      "GAMESS MO coeficients\n",
      "[[  5.32912542e-05   1.00204209e+00  -6.29611710e-02 ...,  -2.76504136e-01\n",
      "   -3.33491926e-01   6.30152663e-01]\n",
      " [  1.81082389e-04   7.54624442e-03  -5.92868850e-04 ...,  -4.05736568e-01\n",
      "   -5.95860645e-01   1.05666445e+00]\n",
      " [  1.62619629e-03  -3.69462973e-02   1.62003720e-02 ...,   3.30173342e+00\n",
      "    5.27004636e+00  -6.95225813e+00]\n",
      " ..., \n",
      " [  2.04858169e-04  -1.80420037e-04   1.77410230e-04 ...,  -1.44618556e-01\n",
      "   -2.10363566e-03   4.95360142e-02]\n",
      " [ -5.74838372e-05   1.34555992e-03   2.79789114e-04 ...,  -6.95269601e-02\n",
      "   -7.63204962e-02   3.17558909e-01]\n",
      " [ -1.05647510e-04  -2.47457859e-04   6.37666669e-05 ...,  -9.79783095e-03\n",
      "    1.14676973e-02   9.39867065e-02]]\n",
      "\n",
      "PSI4 MO coefficients\n",
      "\n",
      "Transforming MO coefficients\n",
      "\n",
      "Transformed MO coefficients\n",
      "[[  5.32912542e-05   1.00204209e+00  -6.29611710e-02 ...,  -2.76504136e-01\n",
      "   -3.33491926e-01   6.30152663e-01]\n",
      " [  1.81082389e-04   7.54624442e-03  -5.92868850e-04 ...,  -4.05736568e-01\n",
      "   -5.95860645e-01   1.05666445e+00]\n",
      " [  1.62619629e-03  -3.69462973e-02   1.62003720e-02 ...,   3.30173342e+00\n",
      "    5.27004636e+00  -6.95225813e+00]\n",
      " ..., \n",
      " [ -1.05647510e-04  -2.47457859e-04   6.37666669e-05 ...,  -9.79783095e-03\n",
      "    1.14676973e-02   9.39867065e-02]\n",
      " [  2.04858169e-04  -1.80420037e-04   1.77410230e-04 ...,  -1.44618556e-01\n",
      "   -2.10363566e-03   4.95360142e-02]\n",
      " [ -5.74838372e-05   1.34555992e-03   2.79789114e-04 ...,  -6.95269601e-02\n",
      "   -7.63204962e-02   3.17558909e-01]]\n",
      "\n",
      "Transforming GAMESS Fock matrix\n",
      "[[ -1.13504662e+01   2.45149025e+00  -2.14298778e+00 ...,   2.23246055e-01\n",
      "   -3.71050703e-01  -4.34851171e-01]\n",
      " [  2.45149025e+00  -1.17710257e+00  -4.22294257e-01 ...,   1.01503763e-01\n",
      "   -1.54768634e-01  -2.00657713e-01]\n",
      " [ -2.14298778e+00  -4.22294257e-01  -1.43418490e+00 ...,   2.27723431e-01\n",
      "   -2.58582215e-01  -5.01111931e-01]\n",
      " ..., \n",
      " [  2.23246055e-01   1.01503763e-01   2.27723431e-01 ...,   2.98747738e-02\n",
      "    7.36761852e-03   1.96776731e-01]\n",
      " [ -3.71050703e-01  -1.54768634e-01  -2.58582215e-01 ...,   7.36761852e-03\n",
      "    7.30967898e-02  -6.94328197e-03]\n",
      " [ -4.34851171e-01  -2.00657713e-01  -5.01111931e-01 ...,   1.96776731e-01\n",
      "   -6.94328197e-03  -3.87869845e-01]]\n"
     ]
    }
   ],
   "source": [
    "egy,wfn=psi4.energy('efp_gamess',return_wfn=True)"
   ]
  },
  {
   "cell_type": "markdown",
   "metadata": {},
   "source": [
    "<div class = \"alert alert-info alert-block\">\n",
    "Save the Fock matrix as numpy array computed by plugin\n",
    "</div>"
   ]
  },
  {
   "cell_type": "code",
   "execution_count": 7,
   "metadata": {},
   "outputs": [
    {
     "data": {
      "text/plain": [
       "array([[ -1.13504662e+01,   2.45149025e+00,  -2.14298778e+00, ...,\n",
       "          2.23246055e-01,  -3.71050703e-01,  -4.34851171e-01],\n",
       "       [  2.45149025e+00,  -1.17710257e+00,  -4.22294257e-01, ...,\n",
       "          1.01503763e-01,  -1.54768634e-01,  -2.00657713e-01],\n",
       "       [ -2.14298778e+00,  -4.22294257e-01,  -1.43418490e+00, ...,\n",
       "          2.27723431e-01,  -2.58582215e-01,  -5.01111931e-01],\n",
       "       ..., \n",
       "       [  2.23246055e-01,   1.01503763e-01,   2.27723431e-01, ...,\n",
       "          2.98747738e-02,   7.36761852e-03,   1.96776731e-01],\n",
       "       [ -3.71050703e-01,  -1.54768634e-01,  -2.58582215e-01, ...,\n",
       "          7.36761852e-03,   7.30967898e-02,  -6.94328197e-03],\n",
       "       [ -4.34851171e-01,  -2.00657713e-01,  -5.01111931e-01, ...,\n",
       "          1.96776731e-01,  -6.94328197e-03,  -3.87869845e-01]])"
      ]
     },
     "execution_count": 7,
     "metadata": {},
     "output_type": "execute_result"
    }
   ],
   "source": [
    "Fa_efp=np.array(wfn.Fa())\n",
    "Fa_efp"
   ]
  },
  {
   "cell_type": "markdown",
   "metadata": {},
   "source": [
    "<div class = \"alert alert-info alert-block\">\n",
    "Do the regular ol vacuum scf calculation and save the same info\n",
    "</div>"
   ]
  },
  {
   "cell_type": "code",
   "execution_count": 8,
   "metadata": {
    "collapsed": true
   },
   "outputs": [],
   "source": [
    "egy_regular,wfn_regular=psi4.energy('scf',return_wfn=True)"
   ]
  },
  {
   "cell_type": "code",
   "execution_count": 9,
   "metadata": {},
   "outputs": [
    {
     "data": {
      "text/plain": [
       "array([[ -1.12965915e+01,   2.43974332e+00,  -2.13292155e+00, ...,\n",
       "          2.22234119e-01,  -3.69338591e-01,  -4.32810478e-01],\n",
       "       [  2.43974332e+00,  -1.13145523e+00,  -3.95461413e-01, ...,\n",
       "          9.89450677e-02,  -1.51480136e-01,  -1.93592429e-01],\n",
       "       [ -2.13292155e+00,  -3.95461413e-01,  -1.39975348e+00, ...,\n",
       "          2.24071671e-01,  -2.51244123e-01,  -4.89211180e-01],\n",
       "       ..., \n",
       "       [  2.22234119e-01,   9.89450677e-02,   2.24071671e-01, ...,\n",
       "          5.24474301e-02,   8.33881174e-03,   1.97011296e-01],\n",
       "       [ -3.69338591e-01,  -1.51480136e-01,  -2.51244123e-01, ...,\n",
       "          8.33881174e-03,   9.39761384e-02,  -4.81475701e-03],\n",
       "       [ -4.32810478e-01,  -1.93592429e-01,  -4.89211180e-01, ...,\n",
       "          1.97011296e-01,  -4.81475701e-03,  -3.63438928e-01]])"
      ]
     },
     "execution_count": 9,
     "metadata": {},
     "output_type": "execute_result"
    }
   ],
   "source": [
    "Fa_vacuum=np.array(wfn_regular.Fa())\n",
    "Fa_vacuum"
   ]
  },
  {
   "cell_type": "markdown",
   "metadata": {},
   "source": [
    "<div class = \"alert alert-info alert-block\">\n",
    "<h>\n",
    "Look at the difference in the Fock matrix and the energy. See the effect of the water fragment potential\n",
    "</h>\n",
    "</div>"
   ]
  },
  {
   "cell_type": "code",
   "execution_count": 24,
   "metadata": {},
   "outputs": [
    {
     "data": {
      "text/plain": [
       "array([[-0.05387466,  0.01174693, -0.01006623, ...,  0.00101194,\n",
       "        -0.00171211, -0.00204069],\n",
       "       [ 0.01174693, -0.04564734, -0.02683284, ...,  0.0025587 ,\n",
       "        -0.0032885 , -0.00706528],\n",
       "       [-0.01006623, -0.02683284, -0.03443143, ...,  0.00365176,\n",
       "        -0.00733809, -0.01190075],\n",
       "       ..., \n",
       "       [ 0.00101194,  0.0025587 ,  0.00365176, ..., -0.02257266,\n",
       "        -0.00097119, -0.00023456],\n",
       "       [-0.00171211, -0.0032885 , -0.00733809, ..., -0.00097119,\n",
       "        -0.02087935, -0.00212852],\n",
       "       [-0.00204069, -0.00706528, -0.01190075, ..., -0.00023456,\n",
       "        -0.00212852, -0.02443092]])"
      ]
     },
     "execution_count": 24,
     "metadata": {},
     "output_type": "execute_result"
    }
   ],
   "source": [
    "Fa_efp-Fa_vacuum"
   ]
  },
  {
   "cell_type": "code",
   "execution_count": 11,
   "metadata": {},
   "outputs": [
    {
     "data": {
      "text/plain": [
       "-2.2834569790575188e-09"
      ]
     },
     "execution_count": 11,
     "metadata": {},
     "output_type": "execute_result"
    }
   ],
   "source": [
    "# Ref. energy unchanged because I just changed the Fock matrix.\n",
    "# Would need to be recomputed\n",
    "egy-egy_regular"
   ]
  },
  {
   "cell_type": "code",
   "execution_count": 28,
   "metadata": {},
   "outputs": [],
   "source": [
    "mp2Energy_inSolvent = psi4.energy('mp2',ref_wfn=wfn)"
   ]
  },
  {
   "cell_type": "code",
   "execution_count": 29,
   "metadata": {},
   "outputs": [
    {
     "data": {
      "text/plain": [
       "-192.607056871285"
      ]
     },
     "execution_count": 29,
     "metadata": {},
     "output_type": "execute_result"
    }
   ],
   "source": [
    "mp2Energy_inSolvent"
   ]
  },
  {
   "cell_type": "code",
   "execution_count": 30,
   "metadata": {},
   "outputs": [],
   "source": [
    "mp2Energy_inVacuum=psi4.energy('mp2',ref_wfn=wfn_regular)"
   ]
  },
  {
   "cell_type": "code",
   "execution_count": 15,
   "metadata": {},
   "outputs": [
    {
     "data": {
      "text/plain": [
       "-192.5813426982338"
      ]
     },
     "execution_count": 15,
     "metadata": {},
     "output_type": "execute_result"
    }
   ],
   "source": [
    "mp2Energy_inVacuum"
   ]
  },
  {
   "cell_type": "code",
   "execution_count": 16,
   "metadata": {},
   "outputs": [
    {
     "data": {
      "text/plain": [
       "array([[-49.41284472,  11.16585838,  -9.05203301, ...,   0.93934796,\n",
       "         -1.56410824,  -1.83437921],\n",
       "       [ 11.16585838, -16.26293645,  -9.52541169, ...,   1.36339164,\n",
       "         -2.28038237,  -2.78635291],\n",
       "       [ -9.05203301,  -9.52541169, -15.03376446, ...,   2.32086594,\n",
       "         -3.59594988,  -5.0298048 ],\n",
       "       ..., \n",
       "       [  0.93934796,   1.36339164,   2.32086594, ...,  -6.63035341,\n",
       "          0.08326745,   0.79411675],\n",
       "       [ -1.56410824,  -2.28038237,  -3.59594988, ...,   0.08326745,\n",
       "         -6.69051052,  -0.29298023],\n",
       "       [ -1.83437921,  -2.78635291,  -5.0298048 , ...,   0.79411675,\n",
       "         -0.29298023,  -8.44021587]])"
      ]
     },
     "execution_count": 16,
     "metadata": {},
     "output_type": "execute_result"
    }
   ],
   "source": [
    "Hcore=np.array(wfn.H())\n",
    "Hcore_vac=np.array(wfn_regular.H())"
   ]
  },
  {
   "cell_type": "code",
   "execution_count": 17,
   "metadata": {
    "collapsed": true
   },
   "outputs": [],
   "source": [
    "nucRep=124.06044803594702"
   ]
  },
  {
   "cell_type": "code",
   "execution_count": 18,
   "metadata": {},
   "outputs": [],
   "source": [
    "# I Didn't set the density matrix based on new coefficients so\n",
    "# Can't use that expression\n",
    "#np.tensordot(np.array(wfn.Da()),Hcore+Fa_efp,axes=2)+nucRep\n",
    "#solv_E=np.einsum('pq,pq->',Fa_efp+Hcore,np.array(wfn.Da()))+nucRep"
   ]
  },
  {
   "cell_type": "code",
   "execution_count": 19,
   "metadata": {},
   "outputs": [],
   "source": [
    " vac_E=np.einsum('pq,pq->', Fa_vacuum + Hcore_vac, np.array(wfn_regular.Da())) + nucRep"
   ]
  },
  {
   "cell_type": "code",
   "execution_count": 25,
   "metadata": {},
   "outputs": [
    {
     "data": {
      "text/plain": [
       "-191.93405301679255"
      ]
     },
     "execution_count": 25,
     "metadata": {},
     "output_type": "execute_result"
    }
   ],
   "source": [
    "vac_E"
   ]
  },
  {
   "cell_type": "code",
   "execution_count": 22,
   "metadata": {},
   "outputs": [],
   "source": [
    "# Recalculate SCF energy using coefficients from gamess\n",
    "ndocc=16\n",
    "Cocc = np.array(wfn.Ca())[:, :ndocc]                                                              \n",
    "Dhere = np.einsum('pi,qi->pq', Cocc, Cocc)"
   ]
  },
  {
   "cell_type": "code",
   "execution_count": 32,
   "metadata": {},
   "outputs": [],
   "source": [
    "scf_efp=np.einsum('pq,pq->',Fa_efp+Hcore,Dhere)+nucRep"
   ]
  },
  {
   "cell_type": "code",
   "execution_count": 33,
   "metadata": {},
   "outputs": [
    {
     "data": {
      "text/plain": [
       "-192.03526981534489"
      ]
     },
     "execution_count": 33,
     "metadata": {},
     "output_type": "execute_result"
    }
   ],
   "source": [
    "scf_efp"
   ]
  },
  {
   "cell_type": "code",
   "execution_count": null,
   "metadata": {
    "collapsed": true
   },
   "outputs": [],
   "source": []
  }
 ],
 "metadata": {
  "kernelspec": {
   "display_name": "Python 3",
   "language": "python",
   "name": "python3"
  },
  "language_info": {
   "codemirror_mode": {
    "name": "ipython",
    "version": 3
   },
   "file_extension": ".py",
   "mimetype": "text/x-python",
   "name": "python",
   "nbconvert_exporter": "python",
   "pygments_lexer": "ipython3",
   "version": "3.5.3"
  }
 },
 "nbformat": 4,
 "nbformat_minor": 2
}
